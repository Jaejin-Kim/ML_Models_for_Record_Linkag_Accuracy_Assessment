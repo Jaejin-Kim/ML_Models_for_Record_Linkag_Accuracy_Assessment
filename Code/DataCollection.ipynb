{
 "cells": [
  {
   "cell_type": "markdown",
   "metadata": {},
   "source": [
    "## Pulling from the PatentsView API"
   ]
  },
  {
   "cell_type": "markdown",
   "metadata": {},
   "source": [
    "This notebook describes the steps to pull data from the PatentsView API for 1 year, for patents where both first-named assignee and inventor are from the US."
   ]
  },
  {
   "cell_type": "markdown",
   "metadata": {},
   "source": [
    "### Import necessary packages."
   ]
  },
  {
   "cell_type": "code",
   "execution_count": null,
   "metadata": {
    "ExecuteTime": {
     "end_time": "2020-03-13T00:24:56.182108Z",
     "start_time": "2020-03-13T00:24:55.649242Z"
    }
   },
   "outputs": [],
   "source": [
    "# interacting with websites and web-APIs\n",
    "import requests \n",
    "\n",
    "# data manipulation\n",
    "import pandas as pd \n",
    "\n",
    "# normalize nested JSON files\n",
    "from pandas.io.json import json_normalize"
   ]
  },
  {
   "cell_type": "markdown",
   "metadata": {},
   "source": [
    "### API query for patents."
   ]
  },
  {
   "cell_type": "markdown",
   "metadata": {},
   "source": [
    "This is a PatentsView API query for 1 year of data (iterating over 12 months), for those patents where both first-named assignee and inventor are from US."
   ]
  },
  {
   "cell_type": "code",
   "execution_count": null,
   "metadata": {
    "ExecuteTime": {
     "end_time": "2020-03-13T01:15:56.992051Z",
     "start_time": "2020-03-13T01:07:31.096925Z"
    }
   },
   "outputs": [],
   "source": [
    "results = []\n",
    "for i in range(1,13):  # iterate over 12 months\n",
    "    # Change year in this string when pulling for another year\n",
    "    url = 'https://www.patentsview.org/api/patents/query?q={\"_and\":[{\"_gte\":{\"patent_date\":\"2018-' + str(i) + '-01\"}},{\"_lte\":{\"patent_date\":\"2018-' + str(i) + '-31\"}},{\"patent_firstnamed_assignee_country\":\"US\"},{\"patent_firstnamed_inventor_country\":\"US\"}]}&f=[\"patent_number\",\"patent_title\",\"patent_abstract\",\"patent_num_cited_by_us_patents\",\"patent_date\",\"app_date\",\"patent_firstnamed_inventor_id\",\"patent_firstnamed_inventor_city\",\"patent_firstnamed_inventor_state\",\"patent_firstnamed_inventor_latitude\",\"patent_firstnamed_inventor_longitude\",\"patent_firstnamed_assignee_id\",\"patent_firstnamed_assignee_city\",\"patent_firstnamed_assignee_state\",\"patent_firstnamed_assignee_latitude\",\"patent_firstnamed_assignee_longitude\"]&o={\"page\":1,\"per_page\":10000}'\n",
    "    r = requests.get(url)\n",
    "    response = r.json()\n",
    "\n",
    "    # if response returns less than 10,000 elements we know that we have less patents for the month\n",
    "    # than possible page entries. So we can construct the dataframe using json normalize:\n",
    "    \n",
    "    if response['total_patent_count'] < 10000:  \n",
    "        patents = pd.DataFrame(response['patents']).drop(columns=['applications'])  # only unpack patent path, drop applications column (the application information is saved in the next line) \n",
    "        application = json_normalize(response['patents'], record_path='applications', meta='patent_number')  # unpack applications table\n",
    "        df = patents.merge(application, on='patent_number')  # now merge two tables together (patents and application information)\n",
    "        results.append(df)  # append results to the list\n",
    "    \n",
    "    # else if response returns more than 10,000 elements and less than 20,000 elements, we need to do the same as\n",
    "    # before (preparing dataframe) but we also need to get the second page and prepare a dataframe and then append the \n",
    "    # second page to the first page results:\n",
    "    \n",
    "    elif response['total_patent_count'] > 10000 and response['total_patent_count'] < 20000:\n",
    "        # Get page 1 results.\n",
    "        patents = pd.DataFrame(response['patents']).drop(columns=['applications'])\n",
    "        application = json_normalize(response['patents'], record_path='applications', meta='patent_number')\n",
    "        df_1 = patents.merge(application, on='patent_number')\n",
    "        \n",
    "        # Get page 2 results.\n",
    "        # Change year in this string to match the queried year above.\n",
    "        url_2 = 'https://www.patentsview.org/api/patents/query?q={\"_and\":[{\"_gte\":{\"patent_date\":\"2018-' + str(i) + '-01\"}},{\"_lte\":{\"patent_date\":\"2018-' + str(i) + '-31\"}},{\"patent_firstnamed_assignee_country\":\"US\"},{\"patent_firstnamed_inventor_country\":\"US\"}]}&f=[\"patent_number\",\"patent_title\",\"patent_abstract\",\"patent_num_cited_by_us_patents\",\"patent_date\",\"app_date\",\"patent_firstnamed_inventor_id\",\"patent_firstnamed_inventor_city\",\"patent_firstnamed_inventor_state\",\"patent_firstnamed_inventor_latitude\",\"patent_firstnamed_inventor_longitude\",\"patent_firstnamed_assignee_id\",\"patent_firstnamed_assignee_city\",\"patent_firstnamed_assignee_state\",\"patent_firstnamed_assignee_latitude\",\"patent_firstnamed_assignee_longitude\"]&o={\"page\":2,\"per_page\":10000}'\n",
    "        r_2 = requests.get(url_2)\n",
    "        response_2 = r_2.json()\n",
    "        patents_2 = pd.DataFrame(response_2['patents']).drop(columns=['applications'])\n",
    "        application_2 = json_normalize(response_2['patents'], record_path='applications', meta='patent_number')\n",
    "        df_2 = patents_2.merge(application_2, on='patent_number')\n",
    "        \n",
    "        df_concat = pd.concat([df_1,df_2])  # concatenate tables from 2 pages of results\n",
    "        results.append(df_concat)\n",
    "        \n",
    "    # in other cases, if there are more than 20,000 response elements, print this: Let's first see if \n",
    "    # we actually need to request more than 2 pages.\n",
    "    \n",
    "    else:\n",
    "        print(i,\"there are more results\")"
   ]
  },
  {
   "cell_type": "markdown",
   "metadata": {},
   "source": [
    "### Concatenate results into one final dataframe.\n",
    "The code about saved all the dataframes in a list results. We can combine the entries into one dataframe"
   ]
  },
  {
   "cell_type": "code",
   "execution_count": null,
   "metadata": {
    "ExecuteTime": {
     "end_time": "2020-03-13T01:29:43.529332Z",
     "start_time": "2020-03-13T01:29:42.272656Z"
    }
   },
   "outputs": [],
   "source": [
    "# Concatenate final results per year. \n",
    "patents_2018 = pd.concat(results)\n",
    "\n",
    "# Check to drop duplicates\n",
    "patents_2018 = patents_2018.drop_duplicates()"
   ]
  },
  {
   "cell_type": "code",
   "execution_count": null,
   "metadata": {
    "ExecuteTime": {
     "end_time": "2020-03-13T01:29:44.004818Z",
     "start_time": "2020-03-13T01:29:43.971985Z"
    }
   },
   "outputs": [],
   "source": [
    "# Check that all patent dates are from the same year\n",
    "patents_2018['patent_date'].unique()"
   ]
  },
  {
   "cell_type": "code",
   "execution_count": null,
   "metadata": {},
   "outputs": [],
   "source": [
    "# Sort by numberand check data\n",
    "patents_2018.sort_values(by=['patent_number'], inplace=True)\n",
    "patents_2018.head()"
   ]
  },
  {
   "cell_type": "markdown",
   "metadata": {},
   "source": [
    "### API query for inventor names."
   ]
  },
  {
   "cell_type": "markdown",
   "metadata": {},
   "source": [
    "Filter by the same criteria as for our patent dataset above (year and location of first-named inventor and assignee) but for the **inventors** endpoint. The query follows the same logic as above."
   ]
  },
  {
   "cell_type": "code",
   "execution_count": null,
   "metadata": {
    "ExecuteTime": {
     "end_time": "2020-03-13T02:14:03.775084Z",
     "start_time": "2020-03-13T02:13:00.848054Z"
    }
   },
   "outputs": [],
   "source": [
    "inventor_names = []\n",
    "for i in range(1,13):  # iterate over 12 months\n",
    "    # Change year in this string when pulling for another year\n",
    "    url = 'https://www.patentsview.org/api/inventors/query?q={\"_and\":[{\"_gte\":{\"patent_date\":\"2018-' + str(i) + '-01\"}},{\"_lte\":{\"patent_date\":\"2018-' + str(i) + '-31\"}},{\"patent_firstnamed_assignee_country\":\"US\"},{\"patent_firstnamed_inventor_country\":\"US\"}]}&f=[\"inventor_id\",\"inventor_first_name\",\"inventor_last_name\"]&o={\"page\":1,\"per_page\":10000}'\n",
    "    r = requests.get(url)\n",
    "    response = r.json()\n",
    "\n",
    "    # if response returns less than 10,000 elements, do this:\n",
    "    if response['total_inventor_count'] < 10000:  \n",
    "        inventor_names.append(pd.DataFrame(response['inventors']))\n",
    "    \n",
    "    # else if response returns more than 10,000 elements and less than 20,000 elements, do this:\n",
    "    elif response['total_inventor_count'] > 10000 and response['total_inventor_count'] < 20000:\n",
    "        # Get page 1 results.\n",
    "        df_1 = pd.DataFrame(response['inventors'])\n",
    "        \n",
    "        # Get page 2 results.\n",
    "        url_2 = 'https://www.patentsview.org/api/inventors/query?q={\"_and\":[{\"_gte\":{\"patent_date\":\"2018-' + str(i) + '-01\"}},{\"_lte\":{\"patent_date\":\"2018-' + str(i) + '-31\"}},{\"patent_firstnamed_assignee_country\":\"US\"},{\"patent_firstnamed_inventor_country\":\"US\"}]}&f=[\"inventor_id\",\"inventor_first_name\",\"inventor_last_name\"]&o={\"page\":2,\"per_page\":10000}'\n",
    "        r_2 = requests.get(url_2)\n",
    "        response_2 = r_2.json()\n",
    "        \n",
    "        df_2 = pd.DataFrame(response_2['inventors'])\n",
    "        \n",
    "        df_concat = pd.concat([df_1,df_2])  # concatenate tables from 2 pages of results\n",
    "        inventor_names.append(df_concat)\n",
    "    \n",
    "    # else if response returns more than 20,000 elements and less than 30,000 elements, do this:\n",
    "    elif response['total_inventor_count'] > 20000 and response['total_inventor_count'] < 30000:\n",
    "        # Get page 1 results.\n",
    "        df_1 = pd.DataFrame(response['inventors'])\n",
    "        \n",
    "        # Get page 2 results.\n",
    "        url_2 = 'https://www.patentsview.org/api/inventors/query?q={\"_and\":[{\"_gte\":{\"patent_date\":\"2018-' + str(i) + '-01\"}},{\"_lte\":{\"patent_date\":\"2018-' + str(i) + '-31\"}},{\"patent_firstnamed_assignee_country\":\"US\"},{\"patent_firstnamed_inventor_country\":\"US\"}]}&f=[\"inventor_id\",\"inventor_first_name\",\"inventor_last_name\"]&o={\"page\":2,\"per_page\":10000}'\n",
    "        r_2 = requests.get(url_2)\n",
    "        response_2 = r_2.json()\n",
    "        df_2 = pd.DataFrame(response_2['inventors'])\n",
    "        \n",
    "        # Get page 3 results.\n",
    "        url_3 = 'https://www.patentsview.org/api/inventors/query?q={\"_and\":[{\"_gte\":{\"patent_date\":\"2018-' + str(i) + '-01\"}},{\"_lte\":{\"patent_date\":\"2018-' + str(i) + '-31\"}},{\"patent_firstnamed_assignee_country\":\"US\"},{\"patent_firstnamed_inventor_country\":\"US\"}]}&f=[\"inventor_id\",\"inventor_first_name\",\"inventor_last_name\"]&o={\"page\":3,\"per_page\":10000}'\n",
    "        r_3 = requests.get(url_3)\n",
    "        response_3 = r_3.json()\n",
    "        df_3 = pd.DataFrame(response_3['inventors'])\n",
    "        \n",
    "        df_concat = pd.concat([df_1,df_2,df_3])  # concatenate tables from 2 pages of results\n",
    "        inventor_names.append(df_concat)\n",
    "    \n",
    "    # else if response returns more than 30,000 elements and less than 40,000 elements, do this:\n",
    "    elif response['total_inventor_count'] > 30000 and response['total_inventor_count'] < 40000:\n",
    "        # Get page 1 results.\n",
    "        df_1 = pd.DataFrame(response['inventors'])\n",
    "        \n",
    "        # Get page 2 results.\n",
    "        url_2 = 'https://www.patentsview.org/api/inventors/query?q={\"_and\":[{\"_gte\":{\"patent_date\":\"2018-' + str(i) + '-01\"}},{\"_lte\":{\"patent_date\":\"2018-' + str(i) + '-31\"}},{\"patent_firstnamed_assignee_country\":\"US\"},{\"patent_firstnamed_inventor_country\":\"US\"}]}&f=[\"inventor_id\",\"inventor_first_name\",\"inventor_last_name\"]&o={\"page\":2,\"per_page\":10000}'\n",
    "        r_2 = requests.get(url_2)\n",
    "        response_2 = r_2.json()\n",
    "        df_2 = pd.DataFrame(response_2['inventors'])\n",
    "        \n",
    "        # Get page 3 results.\n",
    "        url_3 = 'https://www.patentsview.org/api/inventors/query?q={\"_and\":[{\"_gte\":{\"patent_date\":\"2018-' + str(i) + '-01\"}},{\"_lte\":{\"patent_date\":\"2018-' + str(i) + '-31\"}},{\"patent_firstnamed_assignee_country\":\"US\"},{\"patent_firstnamed_inventor_country\":\"US\"}]}&f=[\"inventor_id\",\"inventor_first_name\",\"inventor_last_name\"]&o={\"page\":3,\"per_page\":10000}'\n",
    "        r_3 = requests.get(url_3)\n",
    "        response_3 = r_3.json()\n",
    "        df_3 = pd.DataFrame(response_3['inventors'])\n",
    "        \n",
    "        # Get page 4 results.\n",
    "        url_4 = 'https://www.patentsview.org/api/inventors/query?q={\"_and\":[{\"_gte\":{\"patent_date\":\"2018-' + str(i) + '-01\"}},{\"_lte\":{\"patent_date\":\"2018-' + str(i) + '-31\"}},{\"patent_firstnamed_assignee_country\":\"US\"},{\"patent_firstnamed_inventor_country\":\"US\"}]}&f=[\"inventor_id\",\"inventor_first_name\",\"inventor_last_name\"]&o={\"page\":4,\"per_page\":10000}'\n",
    "        r_4 = requests.get(url_4)\n",
    "        response_4 = r_4.json()\n",
    "        df_4 = pd.DataFrame(response_4['inventors'])\n",
    "        \n",
    "        df_concat = pd.concat([df_1,df_2,df_3,df_4]) \n",
    "        inventor_names.append(df_concat)\n",
    "        \n",
    "    else:\n",
    "        print(i,\"there are more results\")"
   ]
  },
  {
   "cell_type": "code",
   "execution_count": null,
   "metadata": {
    "ExecuteTime": {
     "end_time": "2020-03-13T02:14:36.409196Z",
     "start_time": "2020-03-13T02:14:36.319200Z"
    }
   },
   "outputs": [],
   "source": [
    "# Combine all inventor names and ids in one dataframe\n",
    "inventor_names_2018 = pd.concat(inventor_names)"
   ]
  },
  {
   "cell_type": "markdown",
   "metadata": {},
   "source": [
    "### API query for assignee names."
   ]
  },
  {
   "cell_type": "markdown",
   "metadata": {
    "ExecuteTime": {
     "end_time": "2020-03-13T01:15:57.326410Z",
     "start_time": "2020-03-13T01:15:57.318903Z"
    }
   },
   "source": [
    "Filter by the same criteria as for our patent dataset above (year and location of first-named inventor and assignee) but for the **assignees** endpoint. The query follows the same logic as above."
   ]
  },
  {
   "cell_type": "code",
   "execution_count": null,
   "metadata": {
    "ExecuteTime": {
     "end_time": "2020-03-13T02:30:53.157682Z",
     "start_time": "2020-03-13T02:30:42.983272Z"
    }
   },
   "outputs": [],
   "source": [
    "assignee_names = []\n",
    "for i in range(1,13):  # iterate over 12 months\n",
    "    # Change year in this string when pulling for another year\n",
    "    url = 'https://www.patentsview.org/api/assignees/query?q={\"_and\":[{\"_gte\":{\"patent_date\":\"2018-' + str(i) + '-01\"}},{\"_lte\":{\"patent_date\":\"2018-' + str(i) + '-31\"}},{\"patent_firstnamed_assignee_country\":\"US\"},{\"patent_firstnamed_inventor_country\":\"US\"}]}&f=[\"assignee_id\",\"assignee_organization\"]&o={\"page\":1,\"per_page\":10000}'\n",
    "    r = requests.get(url)\n",
    "    response = r.json()\n",
    "\n",
    "    # if response returns less than 10,000 elements, do this:\n",
    "    if response['total_assignee_count'] < 10000:  \n",
    "        assignee_names.append(pd.DataFrame(response['assignees']))\n",
    "    \n",
    "    # else if response returns more than 10,000 elements and less than 20,000 elements, do this:\n",
    "    elif response['total_assignee_count'] > 10000 and response['total_assignee_count'] < 20000:\n",
    "        # Get page 1 results.\n",
    "        df_1 = pd.DataFrame(response['assignees'])\n",
    "        \n",
    "        # Get page 2 results.\n",
    "        url_2 = 'https://www.patentsview.org/api/assignees/query?q={\"_and\":[{\"_gte\":{\"patent_date\":\"2018-' + str(i) + '-01\"}},{\"_lte\":{\"patent_date\":\"2018-' + str(i) + '-31\"}},{\"patent_firstnamed_assignee_country\":\"US\"},{\"patent_firstnamed_inventor_country\":\"US\"}]}&f=[\"assignee_id\",\"assignee_organization\"]&o={\"page\":2,\"per_page\":10000}'\n",
    "        r_2 = requests.get(url_2)\n",
    "        response_2 = r_2.json()\n",
    "        \n",
    "        df_2 = pd.DataFrame(response_2['assignees'])\n",
    "        \n",
    "        df_concat = pd.concat([df_1,df_2])  # concatenate tables from 2 pages of results\n",
    "        inventor_names.append(df_concat)\n",
    "        \n",
    "    # in other cases, if there are more than 20,000 response elements, print this:\n",
    "    \n",
    "    else:\n",
    "        print(i,\"there are more results\")"
   ]
  },
  {
   "cell_type": "code",
   "execution_count": null,
   "metadata": {
    "ExecuteTime": {
     "end_time": "2020-03-13T02:31:05.991210Z",
     "start_time": "2020-03-13T02:31:05.966603Z"
    }
   },
   "outputs": [],
   "source": [
    "# Combine all assignee names and ids in one dataframe\n",
    "assignee_names_2018 = pd.concat(assignee_names)"
   ]
  },
  {
   "cell_type": "markdown",
   "metadata": {},
   "source": [
    "Now we have three datasets. One with the patent info, one with inventor names and one with assignee name. We can combine them by merging them on the id."
   ]
  },
  {
   "cell_type": "code",
   "execution_count": null,
   "metadata": {
    "ExecuteTime": {
     "end_time": "2020-03-13T02:31:13.995868Z",
     "start_time": "2020-03-13T02:31:13.543413Z"
    }
   },
   "outputs": [],
   "source": [
    "# Rename ids so the merge is easier\n",
    "patents_2018 = (patents_2018.rename(columns={'patent_firstnamed_inventor_id':'inventor_id','patent_firstnamed_assignee_id'\n",
    "                                            :'assignee_id'}))"
   ]
  },
  {
   "cell_type": "code",
   "execution_count": null,
   "metadata": {
    "ExecuteTime": {
     "end_time": "2020-03-13T02:31:37.582944Z",
     "start_time": "2020-03-13T02:31:14.701890Z"
    }
   },
   "outputs": [],
   "source": [
    "# Merge the names to the patent file\n",
    "patents_2018_with_names = patents_2018.merge(inventor_names_2018, on='inventor_id').merge(assignee_names_2018,on='assignee_id').drop_duplicates()"
   ]
  },
  {
   "cell_type": "code",
   "execution_count": null,
   "metadata": {
    "ExecuteTime": {
     "end_time": "2020-03-13T02:31:58.204172Z",
     "start_time": "2020-03-13T02:31:58.158040Z"
    }
   },
   "outputs": [],
   "source": [
    "# Check the merged dataframe\n",
    "patents_2018_with_names.tail()"
   ]
  },
  {
   "cell_type": "code",
   "execution_count": null,
   "metadata": {},
   "outputs": [],
   "source": [
    "# What columns do we have?\n",
    "patents_2018_with_names.count()"
   ]
  },
  {
   "cell_type": "code",
   "execution_count": null,
   "metadata": {},
   "outputs": [],
   "source": [
    "# Rename our name columns so it is clear that it is the name of the first named inventor/assignee\n",
    "patents_2018_with_names = (patents_2018_with_names.rename(columns={'inventor_first_name':'patent_firstnamed_inventor_name_first',\n",
    "                                                                   'inventor_last_name':'patent_firstnamed_inventor_name_last',\n",
    "                                                                   'assignee_organization':'patent_firstnamed_assignee_organization'} ))"
   ]
  },
  {
   "cell_type": "code",
   "execution_count": null,
   "metadata": {},
   "outputs": [],
   "source": [
    "# Include those columns which are needed for the final dataset and in the order that makes sense\n",
    "patents_2018_finalized = patents_2018_with_names[['patent_number', 'patent_title', 'patent_abstract',\n",
    "                           'patent_num_cited_by_us_patents', 'patent_date', 'app_date','patent_firstnamed_inventor_name_first',\n",
    "                            'patent_firstnamed_inventor_name_last','patent_firstnamed_inventor_city','patent_firstnamed_inventor_state',\n",
    "                           'patent_firstnamed_inventor_latitude','patent_firstnamed_inventor_longitude','patent_firstnamed_assignee_organization',\n",
    "                            'patent_firstnamed_assignee_city', 'patent_firstnamed_assignee_state', 'patent_firstnamed_assignee_latitude',\n",
    "                           'patent_firstnamed_assignee_longitude']]"
   ]
  },
  {
   "cell_type": "code",
   "execution_count": null,
   "metadata": {},
   "outputs": [],
   "source": [
    "# Check the number of unique patents after merging on names\n",
    "patents_2018_finalized['patent_number'].nunique()"
   ]
  },
  {
   "cell_type": "code",
   "execution_count": null,
   "metadata": {},
   "outputs": [],
   "source": [
    "# Save to a CSV file\n",
    "patents_2018_finalized.to_csv('patents_2018.csv', index=False)"
   ]
  },
  {
   "cell_type": "markdown",
   "metadata": {},
   "source": [
    "Now we have our data for 2018. For more years we can eitehr repeat the process above for another year or construct an additional loop around all the code so it will run the same code for every year."
   ]
  },
  {
   "cell_type": "markdown",
   "metadata": {},
   "source": [
    "### Bonus: Query using for loop"
   ]
  },
  {
   "cell_type": "markdown",
   "metadata": {},
   "source": [
    "You can also use a loop to query the inventor or assignee names. For example, from out patents_2018 data we know all the inventor ids, which enables us to fetch the name for each of the inventors that we have in the patent data. Looping through the list of unique ids will take more time, but can also be done (especially, if the number of elements to loop through is not too large)."
   ]
  },
  {
   "cell_type": "code",
   "execution_count": null,
   "metadata": {},
   "outputs": [],
   "source": [
    "# get inventor names using a loop\n",
    "inventors = []\n",
    "for inventor_id in df['patent_firstnamed_inventor_id'].unique():\n",
    "    url = 'https://www.patentsview.org/api/inventors/query?q={\"inventor_id\":\"' + str(inventor_id) + '\"}&f=[\"inventor_id\",\"inventor_first_name\",\"inventor_last_name\"]'\n",
    "    r = requests.get(url)\n",
    "    response = r.json()\n",
    "    temp = json_normalize(response['inventors'])\n",
    "    inventors.append(temp)"
   ]
  },
  {
   "cell_type": "code",
   "execution_count": null,
   "metadata": {},
   "outputs": [],
   "source": [
    "# get assignee names using a loop\n",
    "assignees = []\n",
    "for inventor_id in df['patent_firstnamed_assignee_id'].unique():\n",
    "    url = 'https://www.patentsview.org/api/assignees/query?q={\"assignee_id\":\"' + str(inventor_id) + '\"}&f=[\"assignee_id\",\"assignee_organization\"]'\n",
    "    r = requests.get(url)\n",
    "    response = r.json()\n",
    "    temp = json_normalize(response['assignees'])\n",
    "    assignees.append(temp)"
   ]
  }
 ],
 "metadata": {
  "kernelspec": {
   "display_name": "Python 3",
   "language": "python",
   "name": "python3"
  },
  "language_info": {
   "codemirror_mode": {
    "name": "ipython",
    "version": 3
   },
   "file_extension": ".py",
   "mimetype": "text/x-python",
   "name": "python",
   "nbconvert_exporter": "python",
   "pygments_lexer": "ipython3",
   "version": "3.7.3"
  },
  "toc": {
   "base_numbering": 1,
   "nav_menu": {},
   "number_sections": true,
   "sideBar": true,
   "skip_h1_title": false,
   "title_cell": "Table of Contents",
   "title_sidebar": "Contents",
   "toc_cell": true,
   "toc_position": {
    "height": "calc(100% - 180px)",
    "left": "10px",
    "top": "150px",
    "width": "165px"
   },
   "toc_section_display": true,
   "toc_window_display": false
  },
  "varInspector": {
   "cols": {
    "lenName": 16,
    "lenType": 16,
    "lenVar": 40
   },
   "kernels_config": {
    "python": {
     "delete_cmd_postfix": "",
     "delete_cmd_prefix": "del ",
     "library": "var_list.py",
     "varRefreshCmd": "print(var_dic_list())"
    },
    "r": {
     "delete_cmd_postfix": ") ",
     "delete_cmd_prefix": "rm(",
     "library": "var_list.r",
     "varRefreshCmd": "cat(var_dic_list()) "
    }
   },
   "types_to_exclude": [
    "module",
    "function",
    "builtin_function_or_method",
    "instance",
    "_Feature"
   ],
   "window_display": false
  }
 },
 "nbformat": 4,
 "nbformat_minor": 4
}
