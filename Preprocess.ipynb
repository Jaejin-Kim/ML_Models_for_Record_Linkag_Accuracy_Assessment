{
 "cells": [
  {
   "cell_type": "markdown",
   "metadata": {},
   "source": [
    "# Data Import and Preprocessing"
   ]
  },
  {
   "cell_type": "markdown",
   "metadata": {},
   "source": [
    "### Install and import necessary packages"
   ]
  },
  {
   "cell_type": "code",
   "execution_count": 3,
   "metadata": {},
   "outputs": [
    {
     "name": "stdout",
     "output_type": "stream",
     "text": [
      "Collecting recordlinkage\n",
      "\u001b[?25l  Downloading https://files.pythonhosted.org/packages/db/26/babbca39d74824e8bc17428a8eb04951a1d63318af7d02beeb2106a1ec26/recordlinkage-0.14-py3-none-any.whl (944kB)\n",
      "\u001b[K     |████████████████████████████████| 952kB 1.2MB/s eta 0:00:01\n",
      "\u001b[?25hRequirement already satisfied: scikit-learn>=0.19.0 in /opt/conda/lib/python3.7/site-packages (from recordlinkage) (0.21.3)\n",
      "Requirement already satisfied: pandas>=0.23 in /opt/conda/lib/python3.7/site-packages (from recordlinkage) (0.25.3)\n",
      "Requirement already satisfied: joblib in /opt/conda/lib/python3.7/site-packages (from recordlinkage) (0.14.0)\n",
      "Requirement already satisfied: numpy>=1.13.0 in /opt/conda/lib/python3.7/site-packages (from recordlinkage) (1.17.3)\n",
      "Collecting jellyfish>=0.5.4\n",
      "\u001b[?25l  Downloading https://files.pythonhosted.org/packages/3f/80/bcacc7affb47be7279d7d35225e1a932416ed051b315a7f9df20acf04cbe/jellyfish-0.7.2.tar.gz (133kB)\n",
      "\u001b[K     |████████████████████████████████| 143kB 9.7MB/s eta 0:00:01\n",
      "\u001b[?25hRequirement already satisfied: scipy>=1 in /opt/conda/lib/python3.7/site-packages (from recordlinkage) (1.3.2)\n",
      "Requirement already satisfied: python-dateutil>=2.6.1 in /opt/conda/lib/python3.7/site-packages (from pandas>=0.23->recordlinkage) (2.8.1)\n",
      "Requirement already satisfied: pytz>=2017.2 in /opt/conda/lib/python3.7/site-packages (from pandas>=0.23->recordlinkage) (2019.3)\n",
      "Requirement already satisfied: six>=1.5 in /opt/conda/lib/python3.7/site-packages (from python-dateutil>=2.6.1->pandas>=0.23->recordlinkage) (1.13.0)\n",
      "Building wheels for collected packages: jellyfish\n",
      "  Building wheel for jellyfish (setup.py) ... \u001b[?25ldone\n",
      "\u001b[?25h  Created wheel for jellyfish: filename=jellyfish-0.7.2-cp37-cp37m-linux_x86_64.whl size=87395 sha256=32f5962ca173686fb7a339a591d6e6d4af4da67a37d258674dd5056750cd8d3e\n",
      "  Stored in directory: /home/jovyan/.cache/pip/wheels/e8/fe/99/d8fa8f2ef7b82a625b0b77a84d319b0b50693659823c4effb4\n",
      "Successfully built jellyfish\n",
      "Installing collected packages: jellyfish, recordlinkage\n",
      "Successfully installed jellyfish-0.7.2 recordlinkage-0.14\n",
      "Note: you may need to restart the kernel to use updated packages.\n"
     ]
    }
   ],
   "source": [
    "# install record linkage package\n",
    "%pip install recordlinkage"
   ]
  },
  {
   "cell_type": "code",
   "execution_count": 4,
   "metadata": {},
   "outputs": [
    {
     "name": "stdout",
     "output_type": "stream",
     "text": [
      "Imports loaded at 2020-03-26 22:37:26.426103\n"
     ]
    }
   ],
   "source": [
    "# general use imports\n",
    "import pandas as pd\n",
    "import numpy as np\n",
    "import os\n",
    "import glob\n",
    "\n",
    "# Machine learing\n",
    "import sklearn\n",
    "\n",
    "# record linkage \n",
    "import recordlinkage as rl\n",
    "from recordlinkage.preprocessing import clean, phonenumbers, phonetic\n",
    "\n",
    "print( \"Imports loaded at \" + str( pd.datetime.now() ) )"
   ]
  },
  {
   "cell_type": "markdown",
   "metadata": {},
   "source": [
    "### Load Patents Data"
   ]
  },
  {
   "cell_type": "code",
   "execution_count": 5,
   "metadata": {},
   "outputs": [],
   "source": [
    "# change directory to load patents data\n",
    "data_dir_p = \"/home/jovyan/Yandex.Disk/BigDataPubPol/data/patents\"\n",
    "os.chdir(data_dir_p)"
   ]
  },
  {
   "cell_type": "code",
   "execution_count": null,
   "metadata": {},
   "outputs": [],
   "source": [
    "# generate an empty dataframe that will hold all the patent data we have\n",
    "patents = pd.DataFrame([])\n",
    "\n",
    "# read in the files\n",
    "for counter, file in enumerate(glob.glob(\"patent*?\")):\n",
    "    print(counter,file)\n",
    "    patent = pd.read_csv(file)\n",
    "    patents = patents.append(patent)"
   ]
  },
  {
   "cell_type": "code",
   "execution_count": null,
   "metadata": {},
   "outputs": [],
   "source": [
    "# check\n",
    "patents.head()"
   ]
  },
  {
   "cell_type": "code",
   "execution_count": null,
   "metadata": {},
   "outputs": [],
   "source": []
  },
  {
   "cell_type": "markdown",
   "metadata": {},
   "source": [
    "compare.exact() is the deterministic record linkage function provided by the recordlinkage package."
   ]
  },
  {
   "cell_type": "markdown",
   "metadata": {},
   "source": [
    "### Load Grants Data"
   ]
  },
  {
   "cell_type": "code",
   "execution_count": 6,
   "metadata": {},
   "outputs": [],
   "source": [
    "# change directory to load data\n",
    "data_dir_g = \"/home/jovyan/Yandex.Disk/BigDataPubPol/data/projects\"\n",
    "os.chdir(data_dir_g)"
   ]
  },
  {
   "cell_type": "code",
   "execution_count": 9,
   "metadata": {},
   "outputs": [
    {
     "name": "stdout",
     "output_type": "stream",
     "text": [
      "0 FedRePORTER_PRJ_C_FY2014.csv\n",
      "1 FedRePORTER_PRJ_C_FY2015.csv\n",
      "2 FedRePORTER_PRJ_C_FY2011.csv\n",
      "3 FedRePORTER_PRJ_C_FY2010.csv\n",
      "4 FedRePORTER_PRJ_C_FY2016.csv\n",
      "5 FedRePORTER_PRJ_C_FY2017.csv\n",
      "6 FedRePORTER_PRJ_C_FY2013.csv\n",
      "7 FedRePORTER_PRJ_C_FY2018.csv\n",
      "8 FedRePORTER_PRJ_C_FY2012.csv\n"
     ]
    }
   ],
   "source": [
    "# generate an empty dataframe that will hold all the patent data we have\n",
    "grants = pd.DataFrame([])\n",
    "\n",
    "# read in the files\n",
    "for counter, file in enumerate(glob.glob(\"FedRePORTER_PRJ_C_FY*?\")):\n",
    "    print(counter,file)\n",
    "    grant = pd.read_csv(file, low_memory=False, skipinitialspace=True)\n",
    "    grants = grants.append(grant)"
   ]
  },
  {
   "cell_type": "code",
   "execution_count": 10,
   "metadata": {},
   "outputs": [
    {
     "data": {
      "text/html": [
       "<div>\n",
       "<style scoped>\n",
       "    .dataframe tbody tr th:only-of-type {\n",
       "        vertical-align: middle;\n",
       "    }\n",
       "\n",
       "    .dataframe tbody tr th {\n",
       "        vertical-align: top;\n",
       "    }\n",
       "\n",
       "    .dataframe thead th {\n",
       "        text-align: right;\n",
       "    }\n",
       "</style>\n",
       "<table border=\"1\" class=\"dataframe\">\n",
       "  <thead>\n",
       "    <tr style=\"text-align: right;\">\n",
       "      <th></th>\n",
       "      <th>PROJECT_ID</th>\n",
       "      <th>PROJECT_TERMS</th>\n",
       "      <th>PROJECT_TITLE</th>\n",
       "      <th>DEPARTMENT</th>\n",
       "      <th>AGENCY</th>\n",
       "      <th>IC_CENTER</th>\n",
       "      <th>PROJECT_NUMBER</th>\n",
       "      <th>PROJECT_START_DATE</th>\n",
       "      <th>PROJECT_END_DATE</th>\n",
       "      <th>CONTACT_PI_PROJECT_LEADER</th>\n",
       "      <th>...</th>\n",
       "      <th>ORGANIZATION_CITY</th>\n",
       "      <th>ORGANIZATION_STATE</th>\n",
       "      <th>ORGANIZATION_ZIP</th>\n",
       "      <th>ORGANIZATION_COUNTRY</th>\n",
       "      <th>BUDGET_START_DATE</th>\n",
       "      <th>BUDGET_END_DATE</th>\n",
       "      <th>CFDA_CODE</th>\n",
       "      <th>FY</th>\n",
       "      <th>FY_TOTAL_COST</th>\n",
       "      <th>FY_TOTAL_COST_SUB_PROJECTS</th>\n",
       "    </tr>\n",
       "  </thead>\n",
       "  <tbody>\n",
       "    <tr>\n",
       "      <th>0</th>\n",
       "      <td>589214</td>\n",
       "      <td>Bees; Chemicals; Development; Devices; Diet; ...</td>\n",
       "      <td>IMPROVE NUTRITION FOR HONEY BEE COLONIES TO ST...</td>\n",
       "      <td>USDA</td>\n",
       "      <td>ARS</td>\n",
       "      <td>NaN</td>\n",
       "      <td>ARS-0425868</td>\n",
       "      <td>10/1/2013</td>\n",
       "      <td>2/6/2014</td>\n",
       "      <td>HOFFMAN, GLORIA D</td>\n",
       "      <td>...</td>\n",
       "      <td>TUCSON</td>\n",
       "      <td>AZ</td>\n",
       "      <td>85719</td>\n",
       "      <td>UNITED STATES</td>\n",
       "      <td>NaN</td>\n",
       "      <td>NaN</td>\n",
       "      <td>10.001</td>\n",
       "      <td>2014</td>\n",
       "      <td>NaN</td>\n",
       "      <td>NaN</td>\n",
       "    </tr>\n",
       "    <tr>\n",
       "      <th>1</th>\n",
       "      <td>589224</td>\n",
       "      <td>Affect; Algae; Amendment; Appearance; base; B...</td>\n",
       "      <td>ALGAL-BASED WATER TREATMENT TECHNOLOGIES FOR S...</td>\n",
       "      <td>USDA</td>\n",
       "      <td>ARS</td>\n",
       "      <td>NaN</td>\n",
       "      <td>ARS-0426136</td>\n",
       "      <td>1/1/2014</td>\n",
       "      <td>12/31/2018</td>\n",
       "      <td>HALL, DAVID GOODSELL</td>\n",
       "      <td>...</td>\n",
       "      <td>FORT PIERCE</td>\n",
       "      <td>FL</td>\n",
       "      <td>34945</td>\n",
       "      <td>UNITED STATES</td>\n",
       "      <td>NaN</td>\n",
       "      <td>NaN</td>\n",
       "      <td>10.001</td>\n",
       "      <td>2014</td>\n",
       "      <td>NaN</td>\n",
       "      <td>NaN</td>\n",
       "    </tr>\n",
       "    <tr>\n",
       "      <th>2</th>\n",
       "      <td>591601</td>\n",
       "      <td>Area; base; Biological; California; Consumpti...</td>\n",
       "      <td>BIOLOGICAL CONTROL OF PIERCE'S DISEASE OF GRAP...</td>\n",
       "      <td>USDA</td>\n",
       "      <td>NIFA</td>\n",
       "      <td>NaN</td>\n",
       "      <td>0212205</td>\n",
       "      <td>8/20/2014</td>\n",
       "      <td>9/30/2014</td>\n",
       "      <td>HOPKINS, DO, .</td>\n",
       "      <td>...</td>\n",
       "      <td>GAINESVILLE</td>\n",
       "      <td>FL</td>\n",
       "      <td>32611-0110</td>\n",
       "      <td>UNITED STATES</td>\n",
       "      <td>NaN</td>\n",
       "      <td>NaN</td>\n",
       "      <td>10.203</td>\n",
       "      <td>2014</td>\n",
       "      <td>NaN</td>\n",
       "      <td>NaN</td>\n",
       "    </tr>\n",
       "    <tr>\n",
       "      <th>3</th>\n",
       "      <td>593659</td>\n",
       "      <td>absorption; Address; Anemia; Anemia due to Ch...</td>\n",
       "      <td>MOLECULAR MECHSNISMS OF INTESTINAL METAL ION T...</td>\n",
       "      <td>USDA</td>\n",
       "      <td>NIFA</td>\n",
       "      <td>NaN</td>\n",
       "      <td>0217191</td>\n",
       "      <td>7/8/2014</td>\n",
       "      <td>7/9/2014</td>\n",
       "      <td>COLLINS, JA, F..</td>\n",
       "      <td>...</td>\n",
       "      <td>GAINESVILLE</td>\n",
       "      <td>FL</td>\n",
       "      <td>32611-0110</td>\n",
       "      <td>UNITED STATES</td>\n",
       "      <td>NaN</td>\n",
       "      <td>NaN</td>\n",
       "      <td>10.203</td>\n",
       "      <td>2014</td>\n",
       "      <td>NaN</td>\n",
       "      <td>NaN</td>\n",
       "    </tr>\n",
       "    <tr>\n",
       "      <th>4</th>\n",
       "      <td>597171</td>\n",
       "      <td>Climate; Decision Support Systems; Developmen...</td>\n",
       "      <td>ASSESSING CLIMATE INFORMATION NEEDS AND OPPORT...</td>\n",
       "      <td>USDA</td>\n",
       "      <td>NIFA</td>\n",
       "      <td>NaN</td>\n",
       "      <td>0226918</td>\n",
       "      <td>8/19/2014</td>\n",
       "      <td>8/20/2014</td>\n",
       "      <td>JONES, J.</td>\n",
       "      <td>...</td>\n",
       "      <td>GAINESVILLE</td>\n",
       "      <td>FL</td>\n",
       "      <td>32611-0110</td>\n",
       "      <td>UNITED STATES</td>\n",
       "      <td>NaN</td>\n",
       "      <td>NaN</td>\n",
       "      <td>10.202</td>\n",
       "      <td>2014</td>\n",
       "      <td>NaN</td>\n",
       "      <td>NaN</td>\n",
       "    </tr>\n",
       "  </tbody>\n",
       "</table>\n",
       "<p>5 rows × 24 columns</p>\n",
       "</div>"
      ],
      "text/plain": [
       "   PROJECT_ID                                      PROJECT_TERMS  \\\n",
       "0      589214   Bees; Chemicals; Development; Devices; Diet; ...   \n",
       "1      589224   Affect; Algae; Amendment; Appearance; base; B...   \n",
       "2      591601   Area; base; Biological; California; Consumpti...   \n",
       "3      593659   absorption; Address; Anemia; Anemia due to Ch...   \n",
       "4      597171   Climate; Decision Support Systems; Developmen...   \n",
       "\n",
       "                                       PROJECT_TITLE DEPARTMENT AGENCY  \\\n",
       "0  IMPROVE NUTRITION FOR HONEY BEE COLONIES TO ST...       USDA    ARS   \n",
       "1  ALGAL-BASED WATER TREATMENT TECHNOLOGIES FOR S...       USDA    ARS   \n",
       "2  BIOLOGICAL CONTROL OF PIERCE'S DISEASE OF GRAP...       USDA   NIFA   \n",
       "3  MOLECULAR MECHSNISMS OF INTESTINAL METAL ION T...       USDA   NIFA   \n",
       "4  ASSESSING CLIMATE INFORMATION NEEDS AND OPPORT...       USDA   NIFA   \n",
       "\n",
       "  IC_CENTER PROJECT_NUMBER PROJECT_START_DATE PROJECT_END_DATE  \\\n",
       "0       NaN    ARS-0425868          10/1/2013         2/6/2014   \n",
       "1       NaN    ARS-0426136           1/1/2014       12/31/2018   \n",
       "2       NaN        0212205          8/20/2014        9/30/2014   \n",
       "3       NaN        0217191           7/8/2014         7/9/2014   \n",
       "4       NaN        0226918          8/19/2014        8/20/2014   \n",
       "\n",
       "  CONTACT_PI_PROJECT_LEADER  ... ORGANIZATION_CITY ORGANIZATION_STATE  \\\n",
       "0         HOFFMAN, GLORIA D  ...            TUCSON                 AZ   \n",
       "1      HALL, DAVID GOODSELL  ...       FORT PIERCE                 FL   \n",
       "2            HOPKINS, DO, .  ...       GAINESVILLE                 FL   \n",
       "3          COLLINS, JA, F..  ...       GAINESVILLE                 FL   \n",
       "4                 JONES, J.  ...       GAINESVILLE                 FL   \n",
       "\n",
       "  ORGANIZATION_ZIP ORGANIZATION_COUNTRY BUDGET_START_DATE BUDGET_END_DATE  \\\n",
       "0            85719        UNITED STATES               NaN             NaN   \n",
       "1            34945        UNITED STATES               NaN             NaN   \n",
       "2       32611-0110        UNITED STATES               NaN             NaN   \n",
       "3       32611-0110        UNITED STATES               NaN             NaN   \n",
       "4       32611-0110        UNITED STATES               NaN             NaN   \n",
       "\n",
       "  CFDA_CODE    FY FY_TOTAL_COST FY_TOTAL_COST_SUB_PROJECTS  \n",
       "0    10.001  2014           NaN                        NaN  \n",
       "1    10.001  2014           NaN                        NaN  \n",
       "2    10.203  2014           NaN                        NaN  \n",
       "3    10.203  2014           NaN                        NaN  \n",
       "4    10.202  2014           NaN                        NaN  \n",
       "\n",
       "[5 rows x 24 columns]"
      ]
     },
     "execution_count": 10,
     "metadata": {},
     "output_type": "execute_result"
    }
   ],
   "source": [
    "# check\n",
    "grants.head()"
   ]
  },
  {
   "cell_type": "code",
   "execution_count": null,
   "metadata": {},
   "outputs": [],
   "source": []
  },
  {
   "cell_type": "markdown",
   "metadata": {},
   "source": [
    "# Clean Patents Data"
   ]
  },
  {
   "cell_type": "code",
   "execution_count": null,
   "metadata": {},
   "outputs": [],
   "source": [
    "# Check names columns\n",
    "patents['patent_firstnamed_inventor_name_first'].unique().tolist()[50:100]\n",
    "patents['patent_firstnamed_inventor_name_last'].unique().tolist()[50:100]"
   ]
  },
  {
   "cell_type": "markdown",
   "metadata": {},
   "source": [
    "We have some names that have only a first name, for some we have a first and middle name or inital, and then there are also hyphens. So we need to create one variable fname that only contains the first name. The last name column looks better. We just need to make sure that all letters are lowercase."
   ]
  },
  {
   "cell_type": "code",
   "execution_count": null,
   "metadata": {},
   "outputs": [],
   "source": [
    "# remove special characters in names and make them lowercase\n",
    "patents['name_last']=(clean(patents['patent_firstnamed_inventor_name_last'], \n",
    "                                 lowercase=True, remove_brackets=True))\n",
    "patents['name_first']=(clean(patents['patent_firstnamed_inventor_name_first'], \n",
    "                                  lowercase=True, remove_brackets=True))"
   ]
  },
  {
   "cell_type": "code",
   "execution_count": null,
   "metadata": {},
   "outputs": [],
   "source": [
    "# Compare the orginal names with the manipulates ones\n",
    "patents[['patent_firstnamed_inventor_name_last','patent_firstnamed_inventor_name_first', \n",
    "              'name_last','name_first']].head(10)"
   ]
  },
  {
   "cell_type": "code",
   "execution_count": null,
   "metadata": {},
   "outputs": [],
   "source": [
    "# Only keep the first name by splitting the name string\n",
    "patents['name_first'] = patents.name_first.str.split(' ').str.get(0)\n",
    "patents['name_middle'] = patents.name_first.str.split(' ')"
   ]
  },
  {
   "cell_type": "code",
   "execution_count": null,
   "metadata": {},
   "outputs": [],
   "source": [
    "patents[['patent_firstnamed_inventor_name_last','patent_firstnamed_inventor_name_first', \n",
    "              'name_last','name_first']].head(10)"
   ]
  },
  {
   "cell_type": "markdown",
   "metadata": {},
   "source": [
    "First and last name column is now clean."
   ]
  },
  {
   "cell_type": "code",
   "execution_count": null,
   "metadata": {},
   "outputs": [],
   "source": [
    "# Check state column\n",
    "patents['patent_firstnamed_assignee_state'].unique()"
   ]
  },
  {
   "cell_type": "markdown",
   "metadata": {},
   "source": [
    "Seems like states are recorded using abbreviation and uppercase. We also have missing values. Also seems like we have some abbreviations in here that might not be mainland US. We can count the entries to check."
   ]
  },
  {
   "cell_type": "code",
   "execution_count": null,
   "metadata": {},
   "outputs": [],
   "source": [
    "# Check the number of unique entries under the state column\n",
    "print(\"We have \" + str(patents['patent_firstnamed_assignee_state'].nunique()"
   ]
  },
  {
   "cell_type": "markdown",
   "metadata": {},
   "source": [
    "Our data includes all US territories and DC. We can get a list of abbreviations of these states and check our entries against this list. But this looks good, we don't have to clean much here."
   ]
  },
  {
   "cell_type": "code",
   "execution_count": null,
   "metadata": {},
   "outputs": [],
   "source": [
    "# Fetch only the rows with valid state information\n",
    "listUsStates=['AK', 'AL', 'AR', 'AS', 'AZ', 'CA', 'CO', 'CT', 'DC', 'DE', 'FL', 'GA', 'GU', 'HI', 'IA', \n",
    "              'ID', 'IL', 'IN', 'KS', 'KY', 'LA', 'MA', 'MD', 'ME', 'MI', 'MN', 'MO', 'MP', 'MS', 'MT', \n",
    "              'NC', 'ND', 'NE', 'NH', 'NJ', 'NM', 'NV', 'NY', 'OH', 'OK', 'OR', 'PA', 'PR', 'RI', 'SC', \n",
    "              'SD', 'TN', 'TX', 'UM', 'UT', 'VA', 'VI', 'VT', 'WA', 'WI', 'WV', 'WY']\n",
    "\n",
    "patents_US = patents.loc[patents['patent_firstnamed_assignee_state'].isin(listUsStates)]"
   ]
  },
  {
   "cell_type": "code",
   "execution_count": null,
   "metadata": {},
   "outputs": [],
   "source": [
    "# Comparing the counts before and after we can see that we lost some rows \n",
    "print(len(patents_1018['patent_firstnamed_assignee_state']))\n",
    "print(len(patents_1018_US['patent_firstnamed_assignee_state']))\n",
    "\n",
    "# Probably the nans\n",
    "patents_1018_US['patent_firstnamed_assignee_state'].unique()"
   ]
  }
 ],
 "metadata": {
  "kernelspec": {
   "display_name": "Python 3",
   "language": "python",
   "name": "python3"
  },
  "language_info": {
   "codemirror_mode": {
    "name": "ipython",
    "version": 3
   },
   "file_extension": ".py",
   "mimetype": "text/x-python",
   "name": "python",
   "nbconvert_exporter": "python",
   "pygments_lexer": "ipython3",
   "version": "3.7.3"
  }
 },
 "nbformat": 4,
 "nbformat_minor": 4
}
